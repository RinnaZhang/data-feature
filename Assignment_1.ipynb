{
  "nbformat": 4,
  "nbformat_minor": 0,
  "metadata": {
    "colab": {
      "provenance": [],
      "authorship_tag": "ABX9TyMS9J4Vj8sz/DvbUKnjh9tL",
      "include_colab_link": true
    },
    "kernelspec": {
      "name": "python3",
      "display_name": "Python 3"
    },
    "language_info": {
      "name": "python"
    }
  },
  "cells": [
    {
      "cell_type": "markdown",
      "metadata": {
        "id": "view-in-github",
        "colab_type": "text"
      },
      "source": [
        "<a href=\"https://colab.research.google.com/github/RinnaZhang/data-feature/blob/main/Assignment_1.ipynb\" target=\"_parent\"><img src=\"https://colab.research.google.com/assets/colab-badge.svg\" alt=\"Open In Colab\"/></a>"
      ]
    },
    {
      "cell_type": "markdown",
      "source": [
        "In this program, I created a tool that combines real-time exchange rates with relevant financial news to provide a clearer picture to users interested in and investing in the FX market."
      ],
      "metadata": {
        "id": "--sI_kEQt3cY"
      }
    },
    {
      "cell_type": "markdown",
      "source": [
        "We will use two APIs:"
      ],
      "metadata": {
        "id": "9bgrhhXMt9e9"
      }
    },
    {
      "cell_type": "markdown",
      "source": [
        "\n",
        "\n",
        "1.   Currency Beacon API: This API provides live exchange rates\n",
        "2.   Currents API: This API provides the latest news articles\n",
        "\n",
        "\n",
        "\n"
      ],
      "metadata": {
        "id": "mnnFwXyLuC7b"
      }
    },
    {
      "cell_type": "markdown",
      "source": [
        "Stepsn to acheive:"
      ],
      "metadata": {
        "id": "Q9y6dh-1uPiP"
      }
    },
    {
      "cell_type": "markdown",
      "source": [
        "\n",
        "\n",
        "*   Sign up for a Currency Beacon API key (DONE)\n",
        "*   Sign up for a Currents API key (DONE)\n",
        "*   Add our API keys to collab's secrets (DONE)\n",
        "*   Test the APIs to make sure we understand how to use them (DONE)\n",
        "*   Create a function that prompts the user to select a currency pair, fetches the current exchange rate, and displays it (DONE)\n",
        "*   Write a function that searches for the latest news articles related to the selected currency pair (DONE!)\n",
        "\n",
        "\n",
        "\n",
        "\n",
        "\n",
        "\n",
        "\n",
        "\n"
      ],
      "metadata": {
        "id": "qnxb7rlUuRHT"
      }
    },
    {
      "cell_type": "code",
      "execution_count": null,
      "metadata": {
        "colab": {
          "base_uri": "https://localhost:8080/"
        },
        "id": "cNTehhDTrVXH",
        "outputId": "01a48f69-c428-4873-fee2-0f201e365c59"
      },
      "outputs": [
        {
          "output_type": "stream",
          "name": "stdout",
          "text": [
            "CurrencyBeacon key retreived successfully\n",
            "Currents key retreived successfully\n"
          ]
        }
      ],
      "source": [
        "# set up API keys\n",
        "from google.colab import userdata\n",
        "\n",
        "CurrencyBeacon = userdata.get('CurrencyBeacon')\n",
        "Currents = userdata.get('Currents')\n",
        "\n",
        "if CurrencyBeacon:\n",
        "  print('CurrencyBeacon key retreived successfully')\n",
        "else:\n",
        "  print('Could not retreive CurrencyBeacon key')\n",
        "\n",
        "if Currents:\n",
        "  print('Currents key retreived successfully')\n",
        "else:\n",
        "  print('Could not retreive Currents key')"
      ]
    },
    {
      "cell_type": "markdown",
      "source": [
        "#Convert user's input to a currency pair\n"
      ],
      "metadata": {
        "id": "k2bjtzYY-D1P"
      }
    },
    {
      "cell_type": "code",
      "source": [
        "# test how Currency Beacon API works\n",
        "import requests\n",
        "\n",
        "base_currency = input(\"Enter the base currency (eg. USD)\").upper()\n",
        "target_currency = input(\"Enter the target currency (eg. JPY)\").upper()\n",
        "from google.colab import userdata\n",
        "CurrencyBeacon_api_key = userdata.get('CurrencyBeacon')\n",
        "\n",
        "url = f\"https://api.currencybeacon.com/v1/latest?api_key={CurrencyBeacon_api_key}&base={base_currency}&rates={target_currency}\"\n",
        "r = requests.get(url)\n",
        "data = r.json()\n",
        "\n",
        "print(data)"
      ],
      "metadata": {
        "colab": {
          "base_uri": "https://localhost:8080/"
        },
        "id": "UNFCuwRm-w3l",
        "outputId": "156e8960-c95d-45be-8c39-ccf782b44a0f"
      },
      "execution_count": null,
      "outputs": [
        {
          "output_type": "stream",
          "name": "stdout",
          "text": [
            "Enter the base currency (eg. USD)usd\n",
            "Enter the target currency (eg. JPY)jpy\n",
            "{'meta': {'code': 200, 'disclaimer': 'Usage subject to terms: https://currencybeacon.com/terms'}, 'response': {'date': '2024-09-10T00:11:24Z', 'base': 'USD', 'rates': {'ADA': 2.9083713, 'AED': 3.6725, 'AFN': 70.22551633, 'ALL': 90.32030036, 'AMD': 385.2028117, 'ANG': 1.792103, 'AOA': 935.60093469, 'ARS': 957.78379593, 'ATS': 12.46913355, 'AUD': 1.50204102, 'AWG': 1.79, 'AZM': 8499.76133022, 'AZN': 1.69995227, 'BAM': 1.77230914, 'BBD': 2, 'BCH': 0.00310069, 'BDT': 119.52586342, 'BEF': 36.55469724, 'BGN': 1.77230914, 'BHD': 0.376, 'BIF': 2893.35812677, 'BMD': 1, 'BND': 1.30602494, 'BOB': 6.90913832, 'BRL': 5.58571602, 'BSD': 1, 'BTC': 1.751e-05, 'BTN': 83.98108656, 'BWP': 13.31234848, 'BYN': 3.27005309, 'BYR': 32700.53093742, 'BZD': 2.02420643, 'CAD': 1.35649229, 'CDF': 2852.19099133, 'CHF': 0.84948783, 'CLF': 0.02497959, 'CLP': 943.91587359, 'CNH': 7.12138663, 'CNY': 7.11330284, 'COP': 4236.21154889, 'CRC': 522.28077982, 'CUC': 1, 'CUP': 24.00602271, 'CVE': 99.92306537, 'CYP': 0.53035615, 'CZK': 22.70127627, 'DEM': 1.77230914, 'DJF': 178.10108634, 'DKK': 6.76179898, 'DOGE': 9.58518626, 'DOP': 59.93884272, 'DOT': 0.23318937, 'DZD': 132.63402164, 'EEK': 14.17847313, 'EGP': 48.34995372, 'ERN': 15, 'ESP': 150.77354815, 'ETB': 114.44878231, 'ETH': 0.00042359, 'EUR': 0.90616727, 'FIM': 5.38782595, 'FJD': 2.23821486, 'FKP': 0.76511491, 'FRF': 5.94406767, 'GBP': 0.76511491, 'GEL': 2.69475271, 'GGP': 0.76511491, 'GHC': 156756.45622647, 'GHS': 15.67564562, 'GIP': 0.76511491, 'GMD': 70.08376077, 'GNF': 8642.73733622, 'GRD': 308.77649882, 'GTQ': 7.73624533, 'GYD': 208.92152634, 'HKD': 7.79688046, 'HNL': 24.83380733, 'HRK': 6.82751733, 'HTG': 132.21288627, 'HUF': 359.59440095, 'IDR': 15451.15689323, 'IEP': 0.71366472, 'ILS': 3.76637212, 'IMP': 0.76511491, 'INR': 83.98108656, 'IQD': 1309.62669862, 'IRR': 42239.50659957, 'ISK': 138.01200643, 'ITL': 1754.58450882, 'JEP': 0.76511491, 'JMD': 157.07125958, 'JOD': 0.709, 'JPY': 143.17459359, 'KES': 128.97710666, 'KGS': 84.20071529, 'KHR': 4073.4401728, 'KMF': 445.80507522, 'KPW': 899.99897486, 'KRW': 1341.08080012, 'KWD': 0.30544778, 'KYD': 0.82176263, 'KZT': 479.05434767, 'LAK': 22041.73980228, 'LBP': 91916.33063308, 'LINK': 0.09474775, 'LKR': 300.84150478, 'LRD': 195.14908681, 'LSL': 17.87605205, 'LTC': 0.01626995, 'LTL': 3.12881437, 'LUF': 36.55469724, 'LUNA': 2.85594361, 'LVL': 0.63685436, 'LYD': 4.75995654, 'MAD': 9.73378087, 'MDL': 17.41206652, 'MGA': 4547.13849747, 'MGF': 22735.69248736, 'MKD': 55.70966711, 'MMK': 2097.84857942, 'MNT': 3399.38480863, 'MOP': 8.03078687, 'MRO': 395.08874779, 'MRU': 39.50887478, 'MTL': 0.38901761, 'MUR': 46.03225127, 'MVR': 15.37652424, 'MWK': 1735.72810289, 'MXN': 19.89778121, 'MXV': 2.40558682, 'MYR': 4.3655874, 'MZM': 63902.52727752, 'MZN': 63.90252728, 'NAD': 17.87605205, 'NGN': 1644.81204985, 'NIO': 36.79659043, 'NLG': 1.99692988, 'NOK': 10.84075393, 'NPR': 134.4327243, 'NZD': 1.62815749, 'OMR': 0.38497844, 'PAB': 1, 'PEN': 3.81628765, 'PGK': 3.90405238, 'PHP': 56.34264308, 'PKR': 278.79144178, 'PLN': 3.87482889, 'PTE': 181.67022755, 'PYG': 7738.20004882, 'QAR': 3.64, 'ROL': 45074.78457121, 'RON': 4.50747846, 'RSD': 106.0341893, 'RUB': 90.53604242, 'RWF': 1336.63754812, 'SAR': 3.75, 'SBD': 8.30585656, 'SCR': 13.51833502, 'SDD': 60135.51271273, 'SDG': 601.35512713, 'SEK': 10.38160146, 'SGD': 1.30602494, 'SHP': 0.76511491, 'SIT': 217.15392569, 'SKK': 27.29919532, 'SLE': 22.54809261, 'SLL': 22548.09260944, 'SOS': 570.9481561, 'SPL': 0.16666667, 'SRD': 29.29534538, 'SRG': 29295.34538379, 'STD': 22323.52008676, 'STN': 22.32352009, 'SVC': 8.75, 'SYP': 13024.48054287, 'SZL': 17.87605205, 'THB': 33.87700359, 'TJS': 10.6518366, 'TMM': 17518.62267144, 'TMT': 3.50372453, 'TND': 3.05437348, 'TOP': 2.35488625, 'TRL': 34100749.62036484, 'TRY': 34.10074962, 'TTD': 6.78504213, 'TVD': 1.50204102, 'TWD': 32.12437636, 'TZS': 2723.06991657, 'UAH': 41.13009356, 'UGX': 3714.88949348, 'UNI': 0.14855225, 'USD': 1, 'UYU': 40.36533224, 'UZS': 12703.54858835, 'VAL': 1754.58450882, 'VEB': 3663932139.1423335, 'VED': 36.6394913, 'VEF': 3663949.12985852, 'VES': 36.6394913, 'VND': 24657.52134471, 'VUV': 119.24092174, 'WST': 2.73103231, 'XAF': 594.40676695, 'XAG': 0.03528516, 'XAU': 0.0003989, 'XBT': 1.751e-05, 'XCD': 2.70179453, 'XDR': 0.74355675, 'XLM': 10.73591215, 'XOF': 594.40676695, 'XPD': 0.00105403, 'XPF': 108.13451964, 'XPT': 0.00105868, 'XRP': 1.85266382, 'YER': 250.40595194, 'ZAR': 17.87605205, 'ZMK': 26286.54796807, 'ZMW': 26.28654797, 'ZWD': 361.9, 'ZWG': 14.09014417, 'ZWL': 35207.38421859}}, 'date': '2024-09-10T00:11:24Z', 'base': 'USD', 'rates': {'ADA': 2.9083713, 'AED': 3.6725, 'AFN': 70.22551633, 'ALL': 90.32030036, 'AMD': 385.2028117, 'ANG': 1.792103, 'AOA': 935.60093469, 'ARS': 957.78379593, 'ATS': 12.46913355, 'AUD': 1.50204102, 'AWG': 1.79, 'AZM': 8499.76133022, 'AZN': 1.69995227, 'BAM': 1.77230914, 'BBD': 2, 'BCH': 0.00310069, 'BDT': 119.52586342, 'BEF': 36.55469724, 'BGN': 1.77230914, 'BHD': 0.376, 'BIF': 2893.35812677, 'BMD': 1, 'BND': 1.30602494, 'BOB': 6.90913832, 'BRL': 5.58571602, 'BSD': 1, 'BTC': 1.751e-05, 'BTN': 83.98108656, 'BWP': 13.31234848, 'BYN': 3.27005309, 'BYR': 32700.53093742, 'BZD': 2.02420643, 'CAD': 1.35649229, 'CDF': 2852.19099133, 'CHF': 0.84948783, 'CLF': 0.02497959, 'CLP': 943.91587359, 'CNH': 7.12138663, 'CNY': 7.11330284, 'COP': 4236.21154889, 'CRC': 522.28077982, 'CUC': 1, 'CUP': 24.00602271, 'CVE': 99.92306537, 'CYP': 0.53035615, 'CZK': 22.70127627, 'DEM': 1.77230914, 'DJF': 178.10108634, 'DKK': 6.76179898, 'DOGE': 9.58518626, 'DOP': 59.93884272, 'DOT': 0.23318937, 'DZD': 132.63402164, 'EEK': 14.17847313, 'EGP': 48.34995372, 'ERN': 15, 'ESP': 150.77354815, 'ETB': 114.44878231, 'ETH': 0.00042359, 'EUR': 0.90616727, 'FIM': 5.38782595, 'FJD': 2.23821486, 'FKP': 0.76511491, 'FRF': 5.94406767, 'GBP': 0.76511491, 'GEL': 2.69475271, 'GGP': 0.76511491, 'GHC': 156756.45622647, 'GHS': 15.67564562, 'GIP': 0.76511491, 'GMD': 70.08376077, 'GNF': 8642.73733622, 'GRD': 308.77649882, 'GTQ': 7.73624533, 'GYD': 208.92152634, 'HKD': 7.79688046, 'HNL': 24.83380733, 'HRK': 6.82751733, 'HTG': 132.21288627, 'HUF': 359.59440095, 'IDR': 15451.15689323, 'IEP': 0.71366472, 'ILS': 3.76637212, 'IMP': 0.76511491, 'INR': 83.98108656, 'IQD': 1309.62669862, 'IRR': 42239.50659957, 'ISK': 138.01200643, 'ITL': 1754.58450882, 'JEP': 0.76511491, 'JMD': 157.07125958, 'JOD': 0.709, 'JPY': 143.17459359, 'KES': 128.97710666, 'KGS': 84.20071529, 'KHR': 4073.4401728, 'KMF': 445.80507522, 'KPW': 899.99897486, 'KRW': 1341.08080012, 'KWD': 0.30544778, 'KYD': 0.82176263, 'KZT': 479.05434767, 'LAK': 22041.73980228, 'LBP': 91916.33063308, 'LINK': 0.09474775, 'LKR': 300.84150478, 'LRD': 195.14908681, 'LSL': 17.87605205, 'LTC': 0.01626995, 'LTL': 3.12881437, 'LUF': 36.55469724, 'LUNA': 2.85594361, 'LVL': 0.63685436, 'LYD': 4.75995654, 'MAD': 9.73378087, 'MDL': 17.41206652, 'MGA': 4547.13849747, 'MGF': 22735.69248736, 'MKD': 55.70966711, 'MMK': 2097.84857942, 'MNT': 3399.38480863, 'MOP': 8.03078687, 'MRO': 395.08874779, 'MRU': 39.50887478, 'MTL': 0.38901761, 'MUR': 46.03225127, 'MVR': 15.37652424, 'MWK': 1735.72810289, 'MXN': 19.89778121, 'MXV': 2.40558682, 'MYR': 4.3655874, 'MZM': 63902.52727752, 'MZN': 63.90252728, 'NAD': 17.87605205, 'NGN': 1644.81204985, 'NIO': 36.79659043, 'NLG': 1.99692988, 'NOK': 10.84075393, 'NPR': 134.4327243, 'NZD': 1.62815749, 'OMR': 0.38497844, 'PAB': 1, 'PEN': 3.81628765, 'PGK': 3.90405238, 'PHP': 56.34264308, 'PKR': 278.79144178, 'PLN': 3.87482889, 'PTE': 181.67022755, 'PYG': 7738.20004882, 'QAR': 3.64, 'ROL': 45074.78457121, 'RON': 4.50747846, 'RSD': 106.0341893, 'RUB': 90.53604242, 'RWF': 1336.63754812, 'SAR': 3.75, 'SBD': 8.30585656, 'SCR': 13.51833502, 'SDD': 60135.51271273, 'SDG': 601.35512713, 'SEK': 10.38160146, 'SGD': 1.30602494, 'SHP': 0.76511491, 'SIT': 217.15392569, 'SKK': 27.29919532, 'SLE': 22.54809261, 'SLL': 22548.09260944, 'SOS': 570.9481561, 'SPL': 0.16666667, 'SRD': 29.29534538, 'SRG': 29295.34538379, 'STD': 22323.52008676, 'STN': 22.32352009, 'SVC': 8.75, 'SYP': 13024.48054287, 'SZL': 17.87605205, 'THB': 33.87700359, 'TJS': 10.6518366, 'TMM': 17518.62267144, 'TMT': 3.50372453, 'TND': 3.05437348, 'TOP': 2.35488625, 'TRL': 34100749.62036484, 'TRY': 34.10074962, 'TTD': 6.78504213, 'TVD': 1.50204102, 'TWD': 32.12437636, 'TZS': 2723.06991657, 'UAH': 41.13009356, 'UGX': 3714.88949348, 'UNI': 0.14855225, 'USD': 1, 'UYU': 40.36533224, 'UZS': 12703.54858835, 'VAL': 1754.58450882, 'VEB': 3663932139.1423335, 'VED': 36.6394913, 'VEF': 3663949.12985852, 'VES': 36.6394913, 'VND': 24657.52134471, 'VUV': 119.24092174, 'WST': 2.73103231, 'XAF': 594.40676695, 'XAG': 0.03528516, 'XAU': 0.0003989, 'XBT': 1.751e-05, 'XCD': 2.70179453, 'XDR': 0.74355675, 'XLM': 10.73591215, 'XOF': 594.40676695, 'XPD': 0.00105403, 'XPF': 108.13451964, 'XPT': 0.00105868, 'XRP': 1.85266382, 'YER': 250.40595194, 'ZAR': 17.87605205, 'ZMK': 26286.54796807, 'ZMW': 26.28654797, 'ZWD': 361.9, 'ZWG': 14.09014417, 'ZWL': 35207.38421859}}\n"
          ]
        }
      ]
    },
    {
      "cell_type": "code",
      "source": [
        "import requests\n",
        "from google.colab import userdata\n",
        "CurrencyBeacon_api_key = userdata.get('CurrencyBeacon')\n",
        "\n",
        "# a function to validate and fetch currency data\n",
        "def test_valid_currency():\n",
        "    url = f\"https://api.currencybeacon.com/v1/latest?api_key={CurrencyBeacon_api_key}\"\n",
        "    response = requests.get(url)\n",
        "\n",
        "    if response.status_code == 200:\n",
        "        data = response.json()\n",
        "        return set(data['response']['rates'].keys()), data\n",
        "        # Rinna's quick note: We extracts all the valid curencies (return as a set) along with the full data (we will use it later)\n",
        "    else:\n",
        "        print(\"Error fetching currencies\")\n",
        "        return None, None\n",
        "\n",
        "valid_currencies, data = test_valid_currency()\n",
        "\n",
        "# a function prompts the user to input a base currency and a target currency, then return this currency pair's current exchange rate\n",
        "def get_currency_pair(valid_currencies, data):\n",
        "    while True:\n",
        "        base_currency = input(\"Enter the base currency (eg. USD)\").upper()\n",
        "        target_currency = input(\"Enter the target currency (eg. JPY)\").upper()\n",
        "\n",
        "        if base_currency in valid_currencies and target_currency in valid_currencies:\n",
        "            exchange_rate = data['response']['rates'].get(target_currency)\n",
        "            print(f\"The exchange rate for {base_currency}/{target_currency} is: {exchange_rate}\")\n",
        "            return base_currency, target_currency\n",
        "        else:\n",
        "            print(\"Invalid currency pair. Please try again.\")\n",
        "\n",
        "valid_currencies, data = test_valid_currency()\n",
        "\n",
        "if valid_currencies and data:\n",
        "    base_currency, target_currency = get_currency_pair(valid_currencies, data)\n",
        "else:\n",
        "    print(\"Error fetching valid currencies or data.\")"
      ],
      "metadata": {
        "id": "LPnHYlPURMtu",
        "colab": {
          "base_uri": "https://localhost:8080/"
        },
        "outputId": "c186903a-e2c9-4d69-da4d-0dba06a244ba"
      },
      "execution_count": null,
      "outputs": [
        {
          "output_type": "stream",
          "name": "stdout",
          "text": [
            "Enter the base currency (eg. USD)usd\n",
            "Enter the target currency (eg. JPY)jpy\n",
            "The exchange rate for USD/JPY is: 143.33073037\n"
          ]
        }
      ]
    },
    {
      "cell_type": "markdown",
      "source": [
        "# Retrieve news articles based on the user-selected currency pair"
      ],
      "metadata": {
        "id": "01vvoJl5dGvC"
      }
    },
    {
      "cell_type": "code",
      "source": [
        "# a function that retrieves news articles based on the user-selected currency pair\n",
        "# makes a request to \"Currents\" API using the currency pair as a search keyword\n",
        "\n",
        "import requests\n",
        "from google.colab import userdata\n",
        "Currents_api_key=userdata.get('Currents')\n",
        "\n",
        "def get_news(base_currency, target_currency, api_key):\n",
        "    search_term = f\"{base_currency}-{target_currency}\"\n",
        "    url = f\"https://api.currentsapi.services/v1/latest-news?apiKey={api_key}&keywords={search_term}\"\n",
        "    response = requests.get(url)\n",
        "\n",
        "    if response.status_code == 200:\n",
        "        news_data = response.json()\n",
        "        articles = news_data.get('news')\n",
        "        if articles:\n",
        "            return articles\n",
        "        else:\n",
        "            print(\"No news articles found for this currency pair.\")\n",
        "            return []\n",
        "    else:\n",
        "        print(f\"Error fetching news. Status code: {response.status_code}\")\n",
        "        return None"
      ],
      "metadata": {
        "id": "CtFolNiAMII9"
      },
      "execution_count": null,
      "outputs": []
    },
    {
      "cell_type": "markdown",
      "source": [
        "Main program flow:\n",
        "\n",
        "\n",
        "*   First, we fetch valid currencies and exchange rate data\n",
        "*   Then, the user inputs a base and target currency, and we return the current exchange rate by using Currency Beacon API\n",
        "*   Third, we use the selected currency pair to retrieve relevant news articles from the Currents API\n",
        "*   Finally, we print the news articles to user\n",
        "\n",
        "\n",
        "\n"
      ],
      "metadata": {
        "id": "vFX_3QlxedOn"
      }
    },
    {
      "cell_type": "code",
      "source": [
        "# main program\n",
        "valid_currencies, data = test_valid_currency()\n",
        "base_currency, target_currency = get_currency_pair(valid_currencies, data)\n",
        "news_articles = get_news(base_currency, target_currency, Currents_api_key)\n",
        "\n",
        "if valid_currencies and data:\n",
        "  def main():\n",
        "    if news_articles:\n",
        "      for article in news_articles:\n",
        "        print(f\"Title: {article['title']}\")\n",
        "        print(f\"Description: {article['description']}\")\n",
        "        print(f\"Link: {article['url']}\")\n",
        "    else:\n",
        "      print(\"No news articles found for this currency pair.\")\n",
        "  main()\n",
        "else:\n",
        "  print(\"Error\")"
      ],
      "metadata": {
        "colab": {
          "base_uri": "https://localhost:8080/"
        },
        "id": "9F_mx2O3OTUe",
        "outputId": "23bc363c-4d12-4dbc-e190-2f91d4cc537b"
      },
      "execution_count": null,
      "outputs": [
        {
          "output_type": "stream",
          "name": "stdout",
          "text": [
            "Enter the base currency (eg. USD)USD\n",
            "Enter the target currency (eg. JPY)JPY\n",
            "The exchange rate for USD/JPY is: 143.35076831\n",
            "Title: Cindy Miranda on Willie Revillame: He was the first to believe in me\n",
            "Description: Now that she’s enjoying a stable career on film and TV, Cindy Miranda can’t help but look back 12 years ago when she was discovered by Willie Revillame, and became cohost of the variety show,\n",
            "Link: https://entertainment.inquirer.net/575763/cindy-miranda-on-willie-revillame-he-was-the-first-to-believe-in-me\n",
            "Title: Panelo clarifies: Duterte is just administering the properties of KJC\n",
            "Description: MANILA, Philippines — Former president Rodrigo Duterte is just the administrator for the Kingdom of Jesus Christ (KJC) properties, which should not include the person of its founder, Apollo\n",
            "Link: https://newsinfo.inquirer.net/1981639/panelo-clarifies-duterte-is-just-administering-the-properties-of-kjc\n",
            "Title: Love Knots, September 10, 2024\n",
            "Description: This is an information message\n",
            "\n",
            "We use cookies to enhance your experience. By continuing, you agree to our use of cookies. Learn more here....\n",
            "Link: https://entertainment.inquirer.net/575799/love-knots-september-10-2024\n",
            "Title: Tuldok, September 10, 2024\n",
            "Description: This is an information message\n",
            "\n",
            "We use cookies to enhance your experience. By continuing, you agree to our use of cookies. Learn more here....\n",
            "Link: https://entertainment.inquirer.net/575795/tuldok-september-10-2024\n",
            "Title: Crazy Jhenny, September 10, 2024\n",
            "Description: This is an information message\n",
            "\n",
            "We use cookies to enhance your experience. By continuing, you agree to our use of cookies. Learn more here....\n",
            "Link: https://entertainment.inquirer.net/575791/crazy-jhenny-september-10-2024\n",
            "Title: KaladKaren, non-showbiz partner Luke Wrightson tie the knot\n",
            "Description: Months after their second marriage proposal, KaladKaren and her longtime beau Luke Wrightson finally said “I do” in the latter’s hometown in North Yorkshire, England.\n",
            "\n",
            "The actress-news\n",
            "Link: https://entertainment.inquirer.net/575879/kaladkaren-non-showbiz-partner-luke-wrightson-tie-the-knot\n",
            "Title: Apple introduces groundbreaking health features\n",
            "Description: September 9, 2024\n",
            "\n",
            "PRESS RELEASE\n",
            "\n",
            "Apple introduces groundbreaking health features to support conditions impacting billions of people\n",
            "\n",
            "Apple Watch delivers new sleep apnea notifications, and AirPods Pr...\n",
            "Link: https://www.apple.com/newsroom/2024/09/apple-introduces-groundbreaking-health-features/\n",
            "Title: Apple introduces AirPods 4 and a hearing health experience with AirPods Pro 2\n",
            "Description: September 9, 2024\n",
            "\n",
            "PRESS RELEASE\n",
            "\n",
            "Apple introduces AirPods 4 and the world’s first all-in-one hearing health experience with AirPods Pro 2\n",
            "\n",
            "The new AirPods lineup includes a brand-new design for AirPo...\n",
            "Link: https://www.apple.com/newsroom/2024/09/apple-introduces-airpods-4-and-a-hearing-health-experience-with-airpods-pro-2/\n",
            "Title: Apple Watch Ultra 2 now available in black titanium\n",
            "Description: September 9, 2024\n",
            "\n",
            "PRESS RELEASE\n",
            "\n",
            "Apple Watch Ultra 2 now available in black titanium\n",
            "\n",
            "The ultimate sports watch is packed with additional insights including sleep apnea notifications, and is now offe...\n",
            "Link: https://www.apple.com/newsroom/2024/09/apple-watch-ultra-2-now-available-in-black-titanium/\n",
            "Title: Apple Intelligence comes to iPhone, iPad, and Mac starting next month\n",
            "Description: September 9, 2024\n",
            "\n",
            "UPDATE\n",
            "\n",
            "Apple Intelligence comes to iPhone, iPad, and Mac starting next month\n",
            "\n",
            "Helpful Writing Tools, Mail and notifications summaries, a more natural and flexible Siri, the Clean U...\n",
            "Link: https://www.apple.com/newsroom/2024/09/apple-intelligence-comes-to-iphone-ipad-and-mac-starting-next-month/\n",
            "Title: Introducing Apple Watch Series 10\n",
            "Description: September 9, 2024\n",
            "\n",
            "PRESS RELEASE\n",
            "\n",
            "Introducing Apple Watch Series 10\n",
            "\n",
            "The world’s bestselling watch is thinner than ever, featuring the biggest, most advanced display yet; sleep apnea notifications; fa...\n",
            "Link: https://www.apple.com/newsroom/2024/09/introducing-apple-watch-series-10/\n",
            "Title: Apple introduces iPhone 16 and iPhone 16 Plus\n",
            "Description: September 9, 2024\n",
            "\n",
            "PRESS RELEASE\n",
            "\n",
            "Apple introduces iPhone 16 and iPhone 16 Plus\n",
            "\n",
            "Built for Apple Intelligence with the all-new A18 chip, both models feature Camera Control, powerful upgrades to the ad...\n",
            "Link: https://www.apple.com/newsroom/2024/09/apple-introduces-iphone-16-and-iphone-16-plus/\n",
            "Title: Apple debuts iPhone 16 Pro and iPhone 16 Pro Max\n",
            "Description: September 9, 2024\n",
            "\n",
            "PRESS RELEASE\n",
            "\n",
            "Apple debuts iPhone 16 Pro and iPhone 16 Pro Max\n",
            "\n",
            "Powered by the A18 Pro chip and built for Apple Intelligence, the Pro lineup introduces larger display sizes, Camera...\n",
            "Link: https://www.apple.com/newsroom/2024/09/apple-debuts-iphone-16-pro-and-iphone-16-pro-max/\n",
            "Title: Morgan Wallen leads the 2024 Country Music Association award nominations\n",
            "Description: NEW YORK — He had some help: Morgan Wallen tops the 2024 Country Music Association Awards nominations with seven.\n",
            "\n",
            "\n",
            "For a third year in a row, Wallen is up for both the top prize — entertainer of the year — and the male vocalist categories.\n",
            "\n",
            "\n",
            "Rounding out the entertainer of the year categories are L...\n",
            "Link: https://www.voanews.com/a/morgan-wallen-leads-the-2024-country-music-association-award-nominations/7777715.html\n",
            "Title: Browns quarterback Deshaun Watson facing sexual assault and battery lawsuit in Houston\n",
            "Description: Cleveland Browns quarterback Deshaun Watson is facing a new lawsuit for sexual assault and battery in Houston.  The lawsuit, with Jane Doe being filed as the plaintiff, states the woman is suing Watson for sexual assault and battery, as well as intentional infliction of emotional distress, after wha...\n",
            "Link: https://www.foxnews.com/sports/browns-quarterback-deshaun-watson-facing-sexual-assault-battery-lawsuit-houston\n",
            "Title: James Earl Jones, Actor Whose Voice Could Menace or Melt, Dies at 93\n",
            "Description: James Earl Jones in 1980. He climbed to Broadway and Hollywood stardom with talent, drive and remarkable vocal cords....\n",
            "Link: https://www.nytimes.com/2024/09/09/arts/james-earl-jones-dead.html\n",
            "Title: Feds announce crackdown on 3D printed gun parts\n",
            "Description: DoJ, ATF target MCDs, but what about the printers?\n",
            "Link: https://www.theregister.com/2024/09/09/3d_print_gun_mcd/\n",
            "Title: China's US$40 billion skincare market thrives as consumers turn to value-for-money brands\n",
            "Description: Chinese consumers are switching to value-for-money names from luxury icons. Foreign brands are learning from the market as local brands dominate skincare sales.\n",
            "Link: https://www.scmp.com/business/china-business/article/3277793/chinas-us40-billion-skincare-market-thrives-consumers-turn-value-money-brands\n",
            "Title: Trump signals support for reclassifying pot as a less dangerous drug, in line with Harris' position\n",
            "Description: Donald Trump has signaled support for a potentially historic federal policy shift to reclassify marijuana as a less dangerous drug, putting his position in line with that of his Democratic opponent, K...\n",
            "Link: https://www.voanews.com/a/7777728.html\n",
            "Title: Why Hollyoaks is skipping a year and cutting its episodes and cast\n",
            "Description: Why TV soap Hollyoaks is skipping a whole year\n",
            "\n",
            "Lime Pictures/Channel 4 Cleo (Nadine Mulkerrin) and abusive boyfriend Abe (Tyler Conti) are at the heart of the storyline leading up to the time jump\n",
            "\n",
            "I...\n",
            "Link: https://www.bbc.com/news/articles/c33nymxg8g2o\n",
            "Title: Kate Middleton Announces End of Chemotherapy Treatment\n",
            "Description: Kate Middleton, the Princess of Wales, has shared an optimistic update regarding her cancer battle ... she's officially concluded her chemotherapy treatment.\n",
            "Link: https://www.tmz.com/2024/09/09/kate-middleton-shares-chemotherapy-ended/\n",
            "Title: Judge Signs Off on Moving Bryan Kohberger Trial Out of Idaho College Town\n",
            "Description: Bryan Kohberger's murder trial will officially be moved out of the college town where 4 students were notoriously slain ... a judge recently ruled.\n",
            "Link: https://www.tmz.com/2024/09/09/bryan-kohberger-trial-location-moved/\n",
            "Title: Tory Lanez's Recording Equipment Seized In Cell Block Raid\n",
            "Description: Tory Lanez's weekly reign of \"Prison Tapes\" has come to an end ... the rapper's lawyers tell us prison guards raided his cell block and confiscated all his studio equipment.\n",
            "Link: https://www.tmz.com/2024/09/09/tory-lanez-cell-raid-recording-equipment/\n",
            "Title: Pregnant Gypsy Rose Blanchard Gifts Ken Urker Promise Ring\n",
            "Description: Gypsy Rose Blanchard is showing her commitment to boyfriend Ken Urker ... with a special piece of jewelry.\n",
            "Link: https://www.tmz.com/2024/09/09/gypsy-rose-blanchard-gives-ken-urker-promise-ring/\n",
            "Title: Beyoncé Fully Snubbed by 2024 CMA Awards, Fans Sound Off\n",
            "Description: Beyoncé may've had one of the biggest country album's of the year, but it wasn't enough for the mega star to receive one single nomination at the 2024 CMA Awards.\n",
            "Link: https://www.tmz.com/2024/09/09/beyonce-snubbed-2024-cma-awards/\n",
            "Title: Ian McKellen Dishes Unfiltered Opinions on 'Rude' Queen Elizabeth, 'Damaged' King Charles\n",
            "Description: Ian McKellen may have \"Sir\" in his title, but he's not a fan of the British Royal Family ... sharing some unfiltered opinions about the late Queen Elizabeth II and her son, King Charles III.\n",
            "Link: https://www.tmz.com/2024/09/09/ian-mckellen-shades-queen-elizabeth-king-charles/\n",
            "Title: Bruce Springsteen's Wife Patti Scialfa Discloses 6-Year Blood Cancer Battle\n",
            "Description: Bruce Springsteen’s wife, Patti Scialfa, has opened up about her blood cancer battle ... which she has been fighting since 2018.\n",
            "Link: https://www.tmz.com/2024/09/09/bruce-springsteen-wife-patti-scialfa-blood-cancer/\n",
            "Title: Harvey Weinstein Rushed to Hospital for Emergency Heart Surgery\n",
            "Description: UPDATE\n",
            "\n",
            "1:31 PM PT -- Harvey Weinstein is \"not doing great,\" his rep Juda Engelmayer tells TMZ.\n",
            "\n",
            "We're told the fallen film legend is having \"major heart surgery\" today after he first began experienci...\n",
            "Link: https://www.tmz.com/2024/09/09/harvey-weinstein-rushed-hospital-emergency-heart-surgery/\n",
            "Title: Nicki Minaj Rips Jay-Z for Favoring Kendrick Lamar Over Lil Wayne, Drake\n",
            "Description: Nicki Minaj has joined the 20 v 1 against Jay-Z after he awarded the New Orleans-hosted Super Bowl LIX halftime honors to Kendrick Lamar instead of Lil Wayne ... and Queen Barb is spewing all sorts of ether in his direction!!!\n",
            "Link: https://www.tmz.com/2024/09/09/nicki-minaj-disses-jay-z-for-kendrick-lamar-super-bowl/\n",
            "Title: Birdman Backs Lil Wayne, Nicki Minaj, Drake, Calls Roc Nation 'P****'\n",
            "Description: Nicki Minaj won't have to go at Jay-Z all by her lonesome ... Birdman has entered the Super Bowl LIX chat, and he has some tough talk toward the Roc Nation boss!!!\n",
            "Link: https://www.tmz.com/2024/09/09/birdman-backs-lil-wayne-nicki-minaj/\n"
          ]
        }
      ]
    }
  ]
}